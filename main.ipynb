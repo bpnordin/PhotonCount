{
 "cells": [
  {
   "cell_type": "code",
   "execution_count": 1,
   "metadata": {},
   "outputs": [],
   "source": [
    "import numpy as np\n",
    "from scipy.special import gammainc, gamma\n",
    "import matplotlib.pyplot as plt\n",
    "from scipy.special import factorial\n",
    "from scipy.integrate import quad\n",
    "from scipy.stats import poisson\n",
    "from tqdm import tqdm   \n",
    "from random import choices\n",
    "from collections import Counter"
   ]
  },
  {
   "cell_type": "markdown",
   "metadata": {},
   "source": [
    "## Juan Notes:\n",
    "* I would like a docstring for how singleAtom works. We've been using the google standard for dev on the cspy project, looks like we'll be adopting it as a lab so use that.\n",
    "    - google standard styleguide, info on docstrings is section 3.8 : http://google.github.io/styleguide/pyguide.html\n",
    "    - google standard examples : https://sphinxcontrib-napoleon.readthedocs.io/en/latest/example_google.html\n",
    "* units for values set?\n",
    "* the first term in your lambda function is causing decays of counts to zero. They need to decay into the background rate\n",
    "* I like what you've done here, but I would like to be able to understand at a glance. Could you put a latex explanation of the math you're doing up here?"
   ]
  },
  {
   "cell_type": "code",
   "execution_count": 33,
   "metadata": {},
   "outputs": [],
   "source": [
    "#define the variables that determine how many photons are released\n",
    "recordTime = .003\n",
    "rateSingleAtom = 145000\n",
    "rateBackground = 100000\n",
    "lifetimeOfTrap = 1\n",
    "\n",
    "#up to this many photons\n",
    "countEnd = 700\n",
    "xx = np.arange(countEnd)\n",
    "#the background is just a poisson distribution\n",
    "probDistBack = poisson.pmf(xx,recordTime*rateBackground)\n",
    "#the single atom is a poisson distribution with a lifetime of 1/e \n",
    "def singleAtom(recordTime,rate,lifeTime,xx):\n",
    "    prob = []\n",
    "    for i in tqdm(xx):\n",
    "        #take the integral of the lifetime and the poisson dist \n",
    "        val = quad(\n",
    "            lambda t,r,n,ts,tau:np.exp(-t/tau)/tau*poisson.pmf(n,r*t)+np.exp(-ts/tau)*poisson.pmf(n,r*ts),\n",
    "            0,\n",
    "            recordTime,\n",
    "            args = (rate,i,recordTime, lifeTime) \n",
    "        )[0] \n",
    "        prob.append(val) \n",
    "    #return the prob dist for all of the photon counts in xx\n",
    "    return prob\n",
    "\n",
    "\n",
    "\n"
   ]
  },
  {
   "cell_type": "code",
   "execution_count": 34,
   "metadata": {},
   "outputs": [
    {
     "name": "stderr",
     "output_type": "stream",
     "text": [
      "100%|████████████████████████████████████████████████████████████████████████████████| 700/700 [00:13<00:00, 51.70it/s]\n"
     ]
    }
   ],
   "source": [
    "#get the distribution, the integrals take longer then the rest of the code\n",
    "probDistSingle = singleAtom(recordTime,rateSingleAtom,lifetimeOfTrap,xx)\n"
   ]
  },
  {
   "cell_type": "code",
   "execution_count": 39,
   "metadata": {
    "tags": [
     "outputPrepend"
    ]
   },
   "outputs": [],
   "source": [
    "#get a histogram with N datapoints\n",
    "hist = [] \n",
    "N = 5000\n",
    "population = [0,1] #0 is no atom, 1 is single atome\n",
    "#the prob of loading an atom\n",
    "weights = [.5,.5]\n",
    "samples = choices(population,weights,k = N)\n",
    "\n",
    "for i in samples:\n",
    "    if i == 0:\n",
    "        #do background rate\n",
    "        hist.append(choices(xx,probDistSingle)[0])\n",
    "    else:\n",
    "        #do single atom rate\n",
    "        hist.append(choices(xx,probDistBack)[0])"
   ]
  },
  {
   "cell_type": "markdown",
   "metadata": {},
   "source": [
    "## Juan Notes:\n",
    "* Decay from single atom should only decay down to background rate, not zero!\n",
    "* Plot labels?"
   ]
  },
  {
   "cell_type": "code",
   "execution_count": 40,
   "metadata": {},
   "outputs": [
    {
     "data": {
      "image/png": "[encoded data removed]",
      "text/plain": [
       "<Figure size 432x288 with 1 Axes>"
      ]
     },
     "metadata": {
      "needs_background": "light"
     },
     "output_type": "display_data"
    }
   ],
   "source": [
    "plt.hist(hist,100)\n",
    "plt.show()"
   ]
  },
  {
   "cell_type": "markdown",
   "metadata": {},
   "source": [
    "## Juan Notes:\n",
    "* The integration takes a long time. I found simulating the atom statistics is really fast comparatively. Could you simulate the same physics without integrating the complicated equation above and instead simulating atom loss during a measurement many times??"
   ]
  },
  {
   "cell_type": "code",
   "execution_count": null,
   "metadata": {},
   "outputs": [],
   "source": []
  }
 ],
 "metadata": {
  "kernelspec": {
   "display_name": "Python 3",
   "language": "python",
   "name": "python3"
  },
  "language_info": {
   "codemirror_mode": {
    "name": "ipython",
    "version": 3
   },
   "file_extension": ".py",
   "mimetype": "text/x-python",
   "name": "python",
   "nbconvert_exporter": "python",
   "pygments_lexer": "ipython3",
   "version": "3.8.2"
  }
 },
 "nbformat": 4,
 "nbformat_minor": 2
}

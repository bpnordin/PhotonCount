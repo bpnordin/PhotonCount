{
 "cells": [
  {
   "cell_type": "code",

   "execution_count": 1,

   "metadata": {},
   "outputs": [],
   "source": [
    "import numpy as np\n",
    "from scipy.special import gammainc, gamma\n",
    "import matplotlib.pyplot as plt\n",
    "from scipy.special import factorial\n",
    "from scipy.integrate import quad\n",
    "from scipy.stats import poisson\n",
    "from tqdm import tqdm   \n",
    "from random import choices\n",
    "from collections import Counter\n",
    "from scipy.optimize import curve_fit"
   ]
  },
  {
   "cell_type": "markdown",
   "metadata": {},
   "source": [
    "## Juan Notes:\n",
    "* I would like a docstring for how singleAtom works. We've been using the google standard for dev on the cspy project, looks like we'll be adopting it as a lab so use that.\n",
    "    - google standard styleguide, info on docstrings is section 3.8 : http://google.github.io/styleguide/pyguide.html\n",
    "    - google standard examples : https://sphinxcontrib-napoleon.readthedocs.io/en/latest/example_google.html\n",
    "* Could you be more detailed in your explanation of the math? It's ok if you're starting from a near transcription of Mark's notes"
   ]
  },
  {
   "cell_type": "markdown",
   "metadata": {},
   "source": [
    "The rate of photon emission from a single atom is a poisson distribution centerred around the mean number of counts, rateSingleAtom*recordTime.\n",
    "However, the readout beams can heat the atom in the trap and so there is a finite lifetime of the trap\n",
    "$$\\frac{e^{-t/\\tau}}{\\tau}$$ where $\\tau$ is the lifetimeOfTrap.\n",
    "\n",
    "The function singleAtom finds the new probability distribution integrating the lifetime with the poisson distribution from start of readout to end of readout. \n",
    "\n",
    "We then have to convolve the single atom rate with the background rate because the background rate is always present. From wikipedia:  \n",
    "\n",
    "\"the probability mass function or probability density function of a sum of random variables is the convolution of their corresponding probability mass functions or probability density functions respectively\"\n",
    "\n",
    "the sum here is the background rate and the single atom rate."
   ]
  },
  {
   "cell_type": "code",
   "execution_count": 422,
   "metadata": {},
   "outputs": [
    {
     "output_type": "stream",
     "name": "stderr",
     "text": "100%|██████████| 700/700 [00:10<00:00, 65.19it/s]\n"
    }
   ],

   "source": [
    "#define the variables that determine how many photons are released\n",
    "recordTime = .003*0+60*10**-3  #s\n",
    "rateSingleAtom = 145000*0+10*10**3  #Hz\n",
    "rateBackground = 10000*0+1*10**3  #Hz\n",
    "lifetimeOfTrap = 60*10**-3  #s\n",

    "#up to this many photons\n",
    "countEnd = 700\n",
    "xx = np.arange(countEnd)\n",
    "#the background is just a poisson distribution\n",
    "probDistBack = poisson.pmf(xx,recordTime*rateBackground)\n",
    "#the single atom is a poisson distribution with a lifetime of 1/e \n",
    "def singleAtom(recordTime,rate,lifeTime,xx):\n",
    "    \"\"\"\n",
    "    TODO : Add a function description here\n",
    "    \n",
    "    Args:\n",
    "        recordTime: the time that the measurment beams are active(seconds).\n",
    "        rate: the rate that the single atom emits photons(photons/second)\n",
    "        lifeTime: the lifetime of the trap(seconds)\n",
    "        xx: an array of integers that are the possible photon counts to measure\n",
    "    Returns:\n",
    "        an array of probabilities to measure the photon count given the paramaters.\n",
    "\n",
    "    \"\"\" \n",
    "    prob = [] \n",
    "    #go through all of the photon counts in xx\n",
    "    for i in tqdm(xx):\n",
    "        #take the integral of the lifetime and the poisson dist \n",
    "        val = quad(\n",
    "            lambda t,r,n,tau:np.exp(-t/tau)/tau*poisson.pmf(n,r*t),\n",
    "            0,\n",
    "            recordTime,\n",
    "            args = (rate,i,lifeTime) \n",
    "        )[0] \n",
    "        prob.append(val+np.exp(-recordTime/lifeTime)*poisson.pmf(i,rate*recordTime)) #add in the \n",
    "    #return the prob dist for all of the photon counts in xx\n",
    "    return prob"
   ]
  },
  {
   "cell_type": "code",
   "execution_count": 88,
   "metadata": {},
   "outputs": [
    {
     "name": "stderr",
     "output_type": "stream",
     "text": [
      "100%|████████████████████████████████████████████████████████████████████████████████| 700/700 [00:11<00:00, 60.51it/s]\n"
     ]
    }
   ],
   "source": [
    "#get the distribution, the integrals take longer then the rest of the code\n",
    "probDistSingle = singleAtom(recordTime,rateSingleAtom,lifetimeOfTrap,xx)\n",
    "#now convolve with background rate\n",
    "probDistSingle = np.convolve(probDistSingle,probDistBack,'same')"
   ]
  },
  {
   "cell_type": "code",

   "execution_count": 89,

   "metadata": {
    "tags": [
     "outputPrepend"
    ]
   },
   "outputs": [],
   "source": [
    "def getHistogram(probDistBack,probDistSingle,dataPoints = 5000,samples = [], weights = [.5,.5]):\n",
    "    hist = [] \n",
    "    population = [False,True] #false is no atom, true is single atome\n",
    "    #check to see if we are supplied with any samples, if not generate with dataPoiints\n",
    "    if len(samples) == 0:   \n",
    "        samples = choices(population,weights,k = dataPoints)\n",
    "\n",
    "    for i in samples:\n",
    "        if not i:\n",
    "            #do background rate\n",
    "            hist.append(choices(xx,probDistBack)[0])\n",
    "        else:\n",
    "            #do single atom rate\n",
    "            hist.append(choices(xx,probDistSingle)[0])\n",
    "    return hist\n",
    "\n",
    "def simulateAtomLoss(recordTime,trapLifetime,xx,probDistSingle,probDistBack,totalTimeSteps = 100):\n",
    "    \n",
    "    time_bins = np.linspace(0,recordTime,totalTimeSteps)\n",
    "    #the dist of the atom in the trap \n",
    "    time_dist = [np.exp(-t/trapLifetime) for t in time_bins]\n",
    "    #so given each time step, there is a chance 1-time_dist[step] of leaving the trap\n",
    "    #each step there is a poisson dist of photons emiited that is divided by nTimeSteps\n",
    "    \n",
    "    for n in xx:\n",
    "        choiceSingle = probDistSingle[n]\n",
    "        choiceBack = probDistBack[n]\n",
    "        left = False\n",
    "        for i in range(totalTimeSteps): \n",
    "            val = 0\n",
    "            #determine if atom left trap from the prob dist \n",
    "            if not left and choices([False,True],[1-time_dist[i],time_dist[i]])[0]:\n",
    "                #we do the single atom rate\n",
    "                val += choiceSingle/totalTimeSteps\n",
    "                    \n",
    "            else:\n",
    "                left = True \n",
    "                #the background rate\n",
    "                val += choiceBack/totalTimeSteps  \n",
    "        probDist.append(val)     \n",
    "  "
   ]
  },
  {
   "attachments": {},
   "cell_type": "markdown",
   "metadata": {},
   "source": [

    "We have the histogram, and I am just going to fit a gaussian curve to the historgram to find out the mean number of counts for each distribution\n",
    "\n",
    "### Note:\n",
    "The hist isn't responding to my changing $\\tau$ for large $\\tau$ (~> 1 ms) and for smaller $\\tau$ the single photon count rate blows up! For small $\\tau$ we should see the background distribution not change, but all atoms seem to be there. For $\\tau ~ t_{integration}$ we should see the effective single atom rate drop slightly, while it gains a long tail to the 0 atom rate. For large $\\tau$ we should see a small, flat, tail between the 0 atom and 1 atom lobes, until that goes away entirely when $\\tau >> t_{integration}$\n",
    "\n",
    "It looks like the background rate is decaying? You might want to double check your math! The red circled counts  should'nt be occuring!\n",
    "With $\\tau = 800 ms$  (or current trap lifetime with the RO beam's off)\n",
    "![TestT800.png](TestT800.png)\n",
    "With $\\tau = 60 ms$  (A pessimistic guess at the lifetime)\n",
    "![TestT60.png](TestT60.png)"
   ]
  },
  {
   "cell_type": "code",

   "execution_count": 90,

   "metadata": {},
   "outputs": [
    {
     "data": {

      "image/png": "[encoded data removed]",
      "text/plain": [
       "<Figure size 432x288 with 1 Axes>"
      ]
     },
     "metadata": {
      "needs_background": "light"
     },
     "output_type": "display_data"
    },
    {
     "name": "stdout",

     "text": "Background mean(rate*time): 60.00\n"

    }
   ],
   "source": [
    "#the function for scipy curve fit as the addition of two gaussian curves\n",
    "def gaussian(x, amp1,cen1,sigma1, amp2,cen2,sigma2):\n",
    "    return amp1*(1/(sigma1*(np.sqrt(2*np.pi))))*(np.exp((-1.0/2.0)*(((x-cen1)/sigma1)**2))) + \\\n",
    "            amp2*(1/(sigma2*(np.sqrt(2*np.pi))))*(np.exp((-1.0/2.0)*(((x-cen2)/sigma2)**2)))\n",
    "\n",
    "def graph(histogram, p0 = [],binNumber = 50, colors = [\"gray\", \"red\"],fit = True):\n",
    "    \"\"\" \n",
    "    Args:\n",
    "        histogram: the dist of data to put in the histogram\n",
    "        p0: a list of the initial guesses of for the scipy curve fit function on two gaussian functions \n",
    "            [amplitude1,center1,sigma1,amplitude2,center2,sigma2]\n",
    "        binNumnber = 50: the number of bins in the histogram\n",
    "        colors = [\"gray\", \"red\"]: a list of the colors for the histogram chart and fit line\n",
    "\n",
    "    \"\"\"\n",
    "    #the histogram and the bin heights and centers that will be used for fitting\n",
    "    bin_heights, bin_borders, _ = plt.hist(histogram,binNumber,color = colors[0])\n",
    "    if fit:\n",
    "        bin_centers = bin_borders[:-1] + np.diff(bin_borders) / 2\n",
    "        #fit with guess p0\n",
    "        popt, pcov = curve_fit(gaussian, bin_centers, bin_heights, p0)\n",
    "\n",
    "        x_interval_for_fit = np.linspace(bin_borders[0], bin_borders[-1], 10000)\n",
    "\n",

    "        plt.plot(x_interval_for_fit, gaussian(x_interval_for_fit, *popt), label=r\"$\\mu_1$ = %.2f $\\mu_2$ = %.2f\"%(popt[1],popt[4]),color = colors[1])\n",
    "        \n",
    "        plt.legend()    \n",
    "\n",
    "    plt.xlabel(\"Photon Counts\")\n",
    "    plt.ylabel(\"Frequency of Counts\")\n",
    "    plt.show()\n",
    "\n",
    "hist = getHistogram(probDistBack,probDistSingle)\n",
    "graph(hist,p0=[700, 30, 1, 200, 300, 2],fit = False)\n",

    "print (\"Background mean(rate*time): %.2f\" %(recordTime*rateBackground))  "
   ]
  },
  {
   "cell_type": "markdown",
   "metadata": {},
   "source": [
    "The integration takes a long time, this is my attempt at simulating atom loss during a measurement many times. Instead of taking an integral for each photon count, take the probability of the atom leaving the trap at time t for t from 0 to recorded time. At each of the steps change the probability that the atom will leave, then count up the amount of photons according to the status of the atom at that step(rate/totalTimeSteps). I tried taking a new sample from each dist at each step but that only created two very distinct gaussian dist far apart. I think that is interesting and it might have something to do with normal distrbutions and sample numbers. "
   ]
  },
  {
   "cell_type": "code",

   "execution_count": 425,

   "metadata": {},
   "outputs": [],
   "source": [
    "totalTimeSteps = 100\n",
    "time_bins = np.linspace(0,recordTime,totalTimeSteps)\n",
    "#the dist of the atom in the trap \n",

    "#lifetimeOfTrap = 1\n",
    "normalize = 2*lifetimeOfTrap*np.exp(2*recordTime/lifetimeOfTrap)/(np.exp(2*recordTime/lifetimeOfTrap)-1)\n",
    "time_dist = [np.exp(-t/lifetimeOfTrap)*normalize/lifetimeOfTrap for t in time_bins]\n",

    "#so given each time step, there is a chance 1-time_dist[step] of leaving the trap\n",
    "#each step there is a poisson dist of photons emiited that is divided by nTimeSteps"
   ]
  },
  {
   "cell_type": "code",

   "execution_count": 426,

   "metadata": {
    "tags": [
     "outputPrepend",
     "outputPrepend",
     "outputPrepend",
     "outputPrepend",
     "outputPrepend",
     "outputPrepend",
     "outputPrepend",
     "outputPrepend",
     "outputPrepend",
     "outputPrepend",
     "outputPrepend",
     "outputPrepend",
     "outputPrepend",
     "outputPrepend",
     "outputPrepend",
     "outputPrepend",
     "outputPrepend"
    ]
   },
   "outputs": [
    {
     "name": "stderr",

     "text": "100%|██████████| 5000/5000 [00:01<00:00, 3084.42it/s]\n"

    }
   ],
   "source": [
    "hist = [] \n",
    "N = 5000\n",
    "population = [False,True] #false is no atom, true is single atome\n",
    "#the prob of loading an atom\n",
    "weights = [.5,.5]\n",
    "samples = choices(population,weights,k = N)\n",
    "\n",
    "for i in tqdm(samples):\n",
    "    if not i:\n",
    "        #do background rate\n",
    "        hist.append(choices(xx,probDistBack)[0])\n",
    "    else:\n",
    "        #do single atom rate\n",
    "        val = 0\n",
    "        left = False #the check on if the atom has left the trap\n",
    "        choiceSingle = choices(xx,probDistSingle)[0] \n",
    "        choiceBack = choices(xx,probDistBack)[0]\n",
    "        #step through the times\n",
    "        for i in range(totalTimeSteps): \n",
    "            #determine if atom left trap from the prob dist \n",
    "            # This is never going to be called. You need to make left a property of the object over which you iterate (in this caase i) - Juan\n",
    "            if not left and choices([False,True],[1-time_dist[i],time_dist[i]])[0]:\n",
    "                #we do the single atom rate\n",
    "                val += choiceSingle/totalTimeSteps\n",
    "                \n",
    "            else:\n",
    "                left = True \n",
    "                #the background rate\n",
    "                val += choiceBack/totalTimeSteps               \n",
    "        hist.append(val) "
   ]
  },
  {
   "cell_type": "markdown",
   "metadata": {},
   "source": [
    "### Note\n",
    "This function has the atoms decay much faster than the other one, why?"
   ]
  },
  {
   "cell_type": "code",

   "execution_count": 427,

   "metadata": {},
   "outputs": [
    {
     "data": {

      "image/png": "[encoded data removed]",
      "text/plain": [
       "<Figure size 432x288 with 1 Axes>"
      ]

     },
     "metadata": {
      "needs_background": "light"
     },
     "output_type": "display_data"
    },
    {
     "name": "stdout",

     "text": "Background mean(rate*time): 60.00\n"

    }
   ],
   "source": [
    "graph(hist,p0 = [700, 35, 1, 100, 125, 10],fit = False)\n",
    "print (\"Background mean(rate*time): %.2f\" %(recordTime*rateBackground)) "
   ]
  },
  {
   "cell_type": "code",
   "execution_count": null,
   "metadata": {},
   "outputs": [],
   "source": []
  },
  {
   "cell_type": "code",
   "execution_count": null,
   "metadata": {},
   "outputs": [],
   "source": []
  }
 ],
 "metadata": {
  "kernelspec": {
   "display_name": "Python 3",
   "language": "python",
   "name": "python3"
  },
  "language_info": {
   "codemirror_mode": {
    "name": "ipython",
    "version": 3
   },
   "file_extension": ".py",
   "mimetype": "text/x-python",
   "name": "python",
   "nbconvert_exporter": "python",
   "pygments_lexer": "ipython3",
   "version": "3.8.2"
  }
 },
 "nbformat": 4,
 "nbformat_minor": 2
}

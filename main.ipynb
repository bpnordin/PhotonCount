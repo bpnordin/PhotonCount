{
 "cells": [
  {
   "cell_type": "code",
   "execution_count": 1,
   "metadata": {},
   "outputs": [],
   "source": [
    "import numpy as np\n",
    "from scipy.special import gammainc, gamma\n",
    "import matplotlib.pyplot as plt\n",
    "from scipy.special import factorial\n",
    "from scipy.integrate import quad\n",
    "from scipy.stats import poisson\n",
    "from tqdm import tqdm   \n",
    "from random import choices\n",
    "from collections import Counter\n",
    "from scipy.optimize import curve_fit"
   ]
  },
  {
   "cell_type": "markdown",
   "metadata": {},
   "source": [
    "## Juan Notes:\n",
    "* I would like a docstring for how singleAtom works. We've been using the google standard for dev on the cspy project, looks like we'll be adopting it as a lab so use that.\n",
    "    - google standard styleguide, info on docstrings is section 3.8 : http://google.github.io/styleguide/pyguide.html\n",
    "    - google standard examples : https://sphinxcontrib-napoleon.readthedocs.io/en/latest/example_google.html\n",
    "* Could you be more detailed in your explanation of the math? It's ok if you're starting from a near transcription of Mark's notes"
   ]
  },
  {
   "cell_type": "markdown",
   "metadata": {},
   "source": [
    "The rate of photon emission from a single atom is a poisson distribution centerred around the mean number of counts, rateSingleAtom*recordTime.\n",
    "However, the readout beams can heat the atom in the trap and so there is a finite lifetime of the trap\n",
    "$$\\frac{e^{-t/\\tau}}{\\tau}$$ where $\\tau$ is the lifetimeOfTrap.\n",
    "\n",
    "The function singleAtom finds the new probability distribution integrating the lifetime with the poisson distribution from start of readout to end of readout. \n",
    "\n",
    "We then have to convolve the single atom rate with the background rate because the background rate is always present. From wikipedia:  \n",
    "\n",
    "\"the probability mass function or probability density function of a sum of random variables is the convolution of their corresponding probability mass functions or probability density functions respectively\"\n",
    "\n",
    "the sum here is the background rate and the single atom rate."
   ]
  },
  {
   "cell_type": "code",
   "execution_count": null,
   "metadata": {},
   "outputs": [],
   "source": [
    "def convolve(dist1,dist2):\n",
    "    new = np.zeros_like(dist1)\n",
    "    \n",
    "    for n in range(len(new)):\n",
    "        val = 0\n",
    "        for m in range(n):\n",
    "            val = val + dist1[m]*dist2[n-1-m]      \n",
    "            new[n] = val\n",
    "\n",
    "    return new\n",
    "\n",
    "def singleAtom(recordTime,rate,lifeTime,xx):\n",
    "    \"\"\"\n",
    "    analytically evaluates the probability distribution of photon counts n (xx[n]) for a single atom in a dipole trap\n",
    "    Args:\n",
    "        recordTime: the time that the measurment beams are active(seconds).\n",
    "        rate: the rate that the single atom emits photons(photons/second)\n",
    "        lifeTime: the lifetime of the trap(seconds)\n",
    "        xx: an array of integers that are the possible photon counts to measure\n",
    "    Returns:\n",
    "        an array of probabilities to measure the photon count given the paramaters.\n",
    "\n",
    "    \"\"\" \n",
    "    prob = [] \n",
    "    #go through all of the photon counts in xx\n",
    "    for i in tqdm(xx):\n",
    "        #take the integral of the lifetime and the poisson dist \n",
    "        val = quad(\n",
    "            lambda t,r,n,tau:np.exp(-t/tau)/tau*poisson.pmf(n,r*t),\n",
    "            0,\n",
    "            recordTime,\n",
    "            args = (rate,i,lifeTime) \n",
    "        )[0] \n",
    "        prob.append(val+np.exp(-recordTime/lifeTime)*poisson.pmf(i,rate*recordTime)) #add in the \n",
    "\n",
    "    \n",
    "    return prob"
   ]
  },
  {
   "cell_type": "markdown",
   "metadata": {},
   "source": [
    "\n",
    "\n",
    "These are just functions that I have defined because they are used in multiple places\n",
    "\n",
    "* getHistogram i use to run the experiments when given a background and single atom probability function for photon counts\n",
    "* gaussian1 or gaussian2 are used for fitting\n",
    "* graph does a lot, it graphs the data into a histogram and then fits the data and returns that fit\n",
    "\n"
   ]
  },
  {
   "cell_type": "code",
   "execution_count": null,
   "metadata": {},
   "outputs": [],
   "source": [
    "def getHistogram(probDistBack,probDistSingle,dataPoints = 5000,samples = [], weights = [.5,.5]):\n",
    "    \"\"\"\n",
    "    calcuates an array of counts given the background and atom distributions\n",
    "    Args:\n",
    "        probDistBack: the background probability distribution\n",
    "        probDistSingle: the single atom probability distribution\n",
    "        dataPoints: the amount of times to run the experiemnt\n",
    "        samples: an array of length boolean values that represent if that atom is trapped or not\n",
    "        weights: the loading proability for 0,1 atoms\n",
    "    Returns:\n",
    "        an array of values that are ready for a histogram\n",
    "\n",
    "    \"\"\" \n",
    "    hist = [] \n",
    "    population = [False,True] #false is no atom, true is single atome\n",
    "    #check to see if we are supplied with any samples, if not generate with dataPoiints\n",
    "    if len(samples) == 0:   \n",
    "        samples = choices(population,weights,k = dataPoints)\n",
    "\n",
    "    for i in samples:\n",
    "        if not i:\n",
    "            #do background rate\n",
    "            hist.append(choices(xx,probDistBack)[0])\n",
    "        else:\n",
    "            #do single atom rate\n",
    "            hist.append(choices(xx,probDistSingle)[0])\n",
    "    return hist"
   ]
  },
  {
   "cell_type": "code",
   "execution_count": null,
   "metadata": {},
   "outputs": [],
   "source": [
    "#the function for scipy curve fit as the addition of two gaussian curves\n",
    "def gaussian2(x, amp1,cen1,sigma1,amp2,cen2,sigma2):\n",
    "    \"\"\" \n",
    "    a function of the addition of two gaussians\n",
    "    Args:\n",
    "        x: position to evaluate the function at\n",
    "        amp1: the amplitude of the first gaussian function\n",
    "        cen1: the center of the first gaussian function\n",
    "        sigma1: the standard deviation of the first gaussian function\n",
    "        amp2: the amplitude of the second gaussian function\n",
    "        cen2: the center of the second gaussian function\n",
    "        sigma2: the standard deviation of the second gaussian function\n",
    "    Returns:\n",
    "        the value of the double gaussian at position x\n",
    "\n",
    "    \"\"\"\n",
    "    return amp1*(1/(sigma1*(np.sqrt(2*np.pi))))*(np.exp((-1.0/2.0)*(((x-cen1)/sigma1)**2))) + \\\n",
    "            amp2*(1/(sigma2*(np.sqrt(2*np.pi))))*(np.exp((-1.0/2.0)*(((x-cen2)/sigma2)**2)))\n",
    "def gaussian1(x, amp1,cen1,sigma1):\n",
    "    \"\"\" \n",
    "    a function of the addition of one gaussians\n",
    "    Args:\n",
    "        x: position to evaluate the function at\n",
    "        amp1: the amplitude of the first gaussian function\n",
    "        cen1: the center of the first gaussian function\n",
    "        sigma1: the standard deviation of the first gaussian function\n",
    "       \n",
    "    Returns:\n",
    "        the value of the single gaussian at position x\n",
    "\n",
    "    \"\"\"\n",
    "    return amp1*(1/(sigma1*(np.sqrt(2*np.pi))))*(np.exp((-1.0/2.0)*(((x-cen1)/sigma1)**2)))\n",
    "            \n",
    "def graph(histogram, p0 = [],binNumber = 50, colors = [\"gray\", \"red\"],fit = True,double = True):\n",
    "    \"\"\" \n",
    "    Args:\n",
    "        histogram: the dist of data to put in the histogram\n",
    "    Kwargs:  \n",
    "        p0: a list of the initial guesses of for the scipy curve fit function on two gaussian functions \n",
    "            [amplitude1,center1,sigma1,amplitude2,center2,sigma2]     \n",
    "        binNumnber: the number of bins in the histogram\n",
    "        colors: a list of the colors for the histogram chart and fit line\n",
    "        fit: a boolean that when true graphs a fit from the p0 values\n",
    "        Double: a boolean that when true fits a double gaussian to the data\n",
    "    Returns:\n",
    "        returns the y values of the fit for the given range of the histogram data, if no fit is given then an \n",
    "        empty array is returned\n",
    "    \"\"\"\n",
    "    #the histogram and the bin heights and centers that will be used for fitting\n",
    "    bin_heights, bin_borders, _ = plt.hist(histogram,binNumber,color = colors[0])\n",
    "\n",
    "    if fit:\n",
    "        bin_centers = bin_borders[:-1] + np.diff(bin_borders) / 2\n",
    "        #fit with guess p0\n",
    "       \n",
    "        x_interval_for_fit = np.linspace(bin_borders[0], bin_borders[-1], 10000)\n",
    "        if double:\n",
    "            popt, pcov = curve_fit(gaussian2, bin_centers, bin_heights, p0)\n",
    "            plt.plot(x_interval_for_fit, gaussian2(x_interval_for_fit, *popt), \n",
    "                label=r\"$\\mu_1$ = %.2f std = %.2f $\\mu_1$ = %.2f std = %.2f\"%(\n",
    "                    popt[1],popt[2],popt[4],popt[5]),color = colors[1]\n",
    "                    )\n",
    "        else:\n",
    "            popt, pcov = curve_fit(gaussian1, bin_centers, bin_heights, p0)\n",
    "            plt.plot(x_interval_for_fit, gaussian1(x_interval_for_fit, *popt), label=r\"$\\mu_1$ = %.2f and std = %.2f\"%(popt[1],popt[2]),color = colors[1])\n",
    "        plt.legend()    \n",
    "    \n",
    "    plt.xlabel(\"Photon Counts\")\n",
    "    plt.ylabel(\"Frequency of Counts\")\n",
    "    plt.show()\n",
    "    if not fit:\n",
    "        return []\n",
    "    if not double:\n",
    "        return gaussian1(xx,*popt)\n",
    "    else:\n",
    "        return gaussian2(xx,*popt)\n"
   ]
  },
  {
   "cell_type": "markdown",
   "metadata": {},
   "source": [
    "Here is where I am now running the analytical solution and graphing it"
   ]
  },
  {
   "cell_type": "code",
   "execution_count": 87,
   "metadata": {},
   "outputs": [],
   "source": [
    "#define the variables that determine how many photons are released\n",
    "recordTime = .003*0+60*10**-3  #s\n",
    "rateSingleAtom = 145000*0+10*10**3  #Hz\n",
    "rateBackground = 10000*0+1*10**3  #Hz\n",
    "lifetimeOfTrap =  0*10000+60*10**-3  #s\n",
    "#up to this many photons\n",
    "countEnd = 900\n",
    "xx = np.arange(countEnd)\n",
    "#the background is just a poisson distribution\n",
    "probDistBack = poisson.pmf(xx,recordTime*rateBackground)\n",
    "#get the distribution, the integrals take longer then the rest of the code\n",
    "probDistSingle = singleAtom(recordTime,rateSingleAtom,lifetimeOfTrap,xx)\n",
    "#now convolve with background rate\n",
    "probDistSingle = convolve(probDistBack,probDistSingle)\n",
    "plt.plot(xx,probDistSingle)\n",
    "plt.title(\"Probability distribution vs photon count for a single dipole trapped atom\")\n",
    "plt.xlabel(\"Photon count\")\n",
    "plt.ylabel(\"Probability\")\n",
    "plt.show()"
   ]
  },
  {
   "cell_type": "code",
   "execution_count": 88,
   "metadata": {},
   "outputs": [
    {
     "name": "stderr",
     "output_type": "stream",
     "text": [
      "100%|████████████████████████████████████████████████████████████████████████████████| 700/700 [00:11<00:00, 60.51it/s]\n"
     ]
    }
   ],
   "source": [
    "#get the distribution, the integrals take longer then the rest of the code\n",
    "probDistSingle = singleAtom(recordTime,rateSingleAtom,lifetimeOfTrap,xx)\n",
    "#now convolve with background rate\n",
    "probDistSingle = np.convolve(probDistSingle,probDistBack,'same')"
   ]
  },
  {
   "cell_type": "code",
   "execution_count": 89,
   "metadata": {
    "tags": [
     "outputPrepend"
    ]
   },
   "outputs": [],
   "source": [
    "hist = getHistogram(probDistBack,probDistSingle)\n",
    "graph(hist,p0=[1000, 50, 1, 400, 600, 5],fit = False)\n",
    "print (\"Background mean(rate*time): %.2f\" %(recordTime*rateBackground))"
   ]
  },
  {
   "cell_type": "markdown",
   "metadata": {},
   "source": [
    "The integration takes a long time, this is my attempt at simulating atom loss during a measurement many times. Instead of taking an integral for each photon count, take the probability of the atom leaving the trap at time t for t from 0 to recorded time. At each of the steps change the probability that the atom will leave, then count up the amount of photons according to the status of the atom at that step(rate/totalTimeSteps). I tried taking a new sample from each dist at each step but that only created two very distinct gaussian dist far apart. I think that is interesting and it might have something to do with normal distrbutions and sample numbers. "
   ]
  },
  {
   "cell_type": "code",
   "execution_count": 97,
   "metadata": {},
   "outputs": [],
   "source": [
    "def simulateAtomLoss(recordTime,trapLifetime,xx,probDistSingle,probDistBack,totalTimeSteps = 1000):\n",
    "    \"\"\" \n",
    "    simulates an atom being lossed during readout with given trap paramaters \n",
    "    Args:\n",
    "        recordTime: the time that the measurment beams are active(seconds).\n",
    "        trapLifetime: the lifetime of the trap(seconds)\n",
    "        xx: an array of integers that are the possible photon counts to measure\n",
    "        probDistBack: the background probability distribution\n",
    "        probDistSingle: the single atom probability distribution\n",
    "    Returns:\n",
    "        an array of probability distribution for a single atom \n",
    "    \"\"\"\n",
    "    time_bins = np.linspace(0,recordTime,totalTimeSteps)\n",
    "    #the dist of the atom in the trap \n",
    "    #normalize = 2*lifetimeOfTrap*np.exp(2*recordTime/trapLifetime)/(np.exp(2*recordTime/trapLifetime)-1)\n",
    "    time_dist = [np.exp(-t/trapLifetime)/trapLifetime for t in time_bins]\n",
    "    time_dist = time_dist/max(time_dist)\n",
    "    \n",
    "    #so given each time step, there is a chance 1-time_dist[step] of leaving the trap\n",
    "    #each step there is a poisson dist of photons emiited that is divided by nTimeSteps\n",
    "    probDist = []\n",
    "    atomLeft = False\n",
    "    count = np.zeros_like(xx)\n",
    "    experiments = 500\n",
    "    dist = convolve(probDistSingle,probDistBack)\n",
    "    for e in tqdm(range(experiments)):\n",
    "        nPhotons = 0\n",
    "        randomBack = choices(xx,probDistBack,k=totalTimeSteps)\n",
    "        #randomeSingle = choices(xx,probDistSingle,k=totalTimeSteps)\n",
    "        random = choices(xx,dist,k = totalTimeSteps)\n",
    "        atomLeft = False\n",
    "        for i,t in enumerate(time_dist):\n",
    "            w = [1-t,t]\n",
    "            if not atomLeft and choices([False,True],weights=w)[0]:\n",
    "                nPhotons = nPhotons + random[i]\n",
    "            else:\n",
    "                #atomleft = True\n",
    "                pass\n",
    "               # nPhotons = nPhotons + randomBack[i]\n",
    "        probDist.append(nPhotons/totalTimeSteps)\n",
    "\n",
    "    #now get the fit of the line, it is a gaussian\n",
    "\n",
    "    return probDist"
   ]
  },
  {
   "cell_type": "markdown",
   "metadata": {},
   "source": [
    "\n",
    "\n",
    "* The problem I am having is the fact that the simulation is just a poission distribution, I need that exponential tail like that of the analytical function.\n",
    "\n",
    "* The standard deviation gets smaller with more experiments, I think that shows that the way I am having that atoms leave the trap is not right.\n",
    "\n",
    "* There needs to be photon count values that are not clustered around the mean, there should be atoms leaving the trap and only producing the background rate. Instead, they are just averaging out to the same values, the background rate just moves the median.\n",
    "\n"
   ]
  },
  {
   "cell_type": "code",
   "execution_count": 98,
   "metadata": {
    "tags": [
     "outputPrepend",
     "outputPrepend",
     "outputPrepend",
     "outputPrepend",
     "outputPrepend",
     "outputPrepend",
     "outputPrepend",
     "outputPrepend",
     "outputPrepend",
     "outputPrepend",
     "outputPrepend",
     "outputPrepend",
     "outputPrepend",
     "outputPrepend",
     "outputPrepend",
     "outputPrepend",
     "outputPrepend"
    ]
   },
   "outputs": [
    {
     "name": "stderr",
     "output_type": "stream",
     "text": [
      "100%|████████████████████████████████████████████████████████████████████████████| 5000/5000 [00:01<00:00, 3127.84it/s]\n"
     ]
    }
   ],
   "source": [
    "test = poisson.pmf(xx,(rateSingleAtom)*recordTime)\n",
    "probDistSimulated = simulateAtomLoss(recordTime,lifetimeOfTrap,xx,test,probDistBack)\n",
    "fitValues = graph(probDistSimulated,p0 = [30,420,2],double = False)\n",
    "h = getHistogram(probDistBack,fitValues)\n",
    "graph(h,fit = False)\n",
    "\"\"\"plt.show()\n",
    "plt.plot(xx,probDistSingle)\"\"\""
   ]
  }
 ],
 "metadata": {
  "kernelspec": {
   "display_name": "Python 3",
   "language": "python",
   "name": "python3"
  },
  "language_info": {
   "codemirror_mode": {
    "name": "ipython",
    "version": 3
   },
   "file_extension": ".py",
   "mimetype": "text/x-python",
   "name": "python",
   "nbconvert_exporter": "python",
   "pygments_lexer": "ipython3",
   "version": "3.8.2"
  }
 },
 "nbformat": 4,
 "nbformat_minor": 2
}